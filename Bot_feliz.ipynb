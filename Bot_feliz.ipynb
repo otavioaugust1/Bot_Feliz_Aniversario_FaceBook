{
 "cells": [
  {
   "cell_type": "code",
   "execution_count": 7,
   "metadata": {},
   "outputs": [],
   "source": [
    "#bibliotecas usadas\n",
    "import facebook\n",
    "import random\n",
    "\n",
    "access_token = \"SUA_CHAVE_DE_ACESSO\"\n",
    "graph = facebook.GraphAPI(access_token)"
   ]
  },
  {
   "cell_type": "code",
   "execution_count": 8,
   "metadata": {},
   "outputs": [],
   "source": [
    "#mensagens para desejar Feliz Aniversario\n",
    "frases = ['Desejo que este ano seja ainda mais especial e que realizações continuem acontecendo. Feliz aniversário!',\n",
    "'Desejo que este ano seja incrível e que venha muitas oportunidades e alegrias. 🎉🎂Feliz aniversário!',\n",
    "'Desejo que este ano seja incrível e que venha muitas realizações. Feliz aniversário!',\n",
    "'Desejo que este ano seja incrível e que venha muitas surpresas boas. Feliz aniversário!',\n",
    "'Desejo que este ano seja maravilhoso e que venha muitas oportunidades e alegrias.🎉🎂 Feliz aniversário!',\n",
    "'Desejo que este ano seja maravilhoso e que venha muitas oportunidades incríveis. Feliz aniversário!',\n",
    "'Desejo que este ano seja maravilhoso e que venha muitas realizações e alegrias. Feliz aniversário!',\n",
    "'Desejo que este ano seja repleto de amor, paz e realizações incríveis. Feliz aniversário!',\n",
    "'Desejo que este ano seja repleto de amor, paz e realizações. Feliz aniversário!',\n",
    "'Desejo que este ano traga muita alegria, amor e realizações incríveis. Feliz aniversário!🎉🎂',\n",
    "'Desejo que este ano traga muita alegria, sucesso e realizações incríveis. Feliz aniversário!',\n",
    "'Desejo que este ano traga muita paz, amor e felicidade. Feliz aniversário!',\n",
    "'Desejo que este ano traga muito amor, paz e realizações incríveis. Feliz aniversário!',\n",
    "'Desejo que este ano traga muito sucesso, amor e realizações incríveis.🎉🎂 Feliz aniversário!',\n",
    "'Parabéns pelo aniversário! Que este novo ano traga muita alegria e realizações incríveis.',\n",
    "'Parabéns pelo aniversário! Que este novo ano traga muita alegria e realizações.',\n",
    "'Parabéns pelo aniversário!🎉🎂 Que este novo ano traga muita realização e alegria.',\n",
    "'Parabéns pelo aniversário! Que o dia seja especial e repleto de alegria.',\n",
    "'Parabéns pelo aniversário! Que venha muitas alegrias e oportunidades incríveis.',\n",
    "'Parabéns pelo aniversário! 🎉🎂Que venha muitas alegrias e realizações.',\n",
    "'Parabéns pelo aniversário! Que venha muitas aventuras e conquistas incríveis.',\n",
    "'Parabéns pelo aniversário! Que venha muitas aventuras e felicidade.',\n",
    "'Parabéns pelo aniversário! Que venha muitas aventuras e momentos inesquecíveis.',\n",
    "'Parabéns pelo aniversário! Que venha muitas aventuras e que os dias sejam repletos de felicidade.',\n",
    "'Parabéns pelo aniversário! Que venha muitas aventuras e realizações incríveis.',\n",
    "'Parabéns pelo aniversário! Que venha muitas aventuras e realizações.',\n",
    "'Que este ano seja maravilhoso e que todos os teus sonhos se tornem realidade. Feliz aniversário!',\n",
    "'Que este ano seja maravilhoso e que venha muitas realizações e alegrias. Feliz aniversário!',\n",
    "'Que este ano seja maravilhoso e que venha muitas realizações. Feliz aniversário!',\n",
    "'Que este ano seja maravilhoso e que venha muitas surpresas boas e realizações. Feliz aniversário!',\n",
    "'Que este ano seja repleto de realizações e momentos inesquecíveis. Feliz aniversário!',\n",
    "'Que este ano traga muitas alegrias e realizações incríveis. Feliz aniversário!',\n",
    "'Que este ano trazida muitas surpresas boas e conquistas incríveis. Feliz aniversário!',\n",
    "'Que venha muitas alegrias e realizações neste novo ano de vida. Feliz aniversário!',\n",
    "'Que venha muitas surpresas boas e realizações neste novo ano de vida. Feliz aniversário!',\n",
    "\"Feliz aniversário! Hoje você completa mais um ano de vida e é hora de comemorar com muita alegria. Que seu dia seja repleto de luz e paz. Que as pessoas queridas estejam com você e que o amor invada seu coração!\",\n",
    "\"Que seu aniversário seja repleto de palavras de carinho e abraços sinceros. Parabéns! ❤️😍🎉\",\n",
    "\"Feliz Aniversário! 🎉🎂 Mais um ano que passou e outro que vai começar. Aproveite ao máximo e que nunca lhe falte felicidade, amor, saúde e amizade. 🤗\",\n",
    "\"Feliz aniversário! Que tudo de bom lhe aconteça neste dia tão marcante e especial na sua vida. Aproveite com um grande sorriso no rosto, e divirta-se muito!\",\n",
    "\"Completar mais um ano neste mundo é o maior presente que podemos desejar. Feliz aniversário e que a vida lhe sorria sempre!\",\n",
    "\"Parabéns! Que o seu dia seja tão lindo quanto o seu sorriso e lhe ofereça tanta felicidade quanto a sua amizade envia para a minha vida. Que esta nova etapa chegue recheada de muita saúde e novas oportunidades para concretizar os seus sonhos mais desejados.\",\n",
    "\"Hoje você inicia uma nova jornada, e nesse momento de alegria por você estar completando mais um ano de vida, quero lhe dizer que tenho muito orgulho em compartilhar da sua amizade. Parabéns meu amigo, e feliz aniversário!\",\n",
    "\"Parabéns por esta data especial. Que o tempo seja sempre o seu melhor parceiro, trazendo serenidade, equilíbrio e sabedoria – que lhe darão a receita ideal de como viver a vida, aproveitando o melhor que ela tem a oferecer.\",\n",
    "\"Nesta data especial em que você comemora mais um ano de vida, eu quero lhe desejar um dia muito feliz e preenchido por doces surpresas e presentes. Que possa celebrar o seu dia em grande estilo e na companhia daqueles que mais ama. Parabéns!\",\n",
    "\"Que este aniversário traga muita paz, saúde, alegria e sucesso. O pouco que conheço de você, já me diz que você é uma pessoa muito especial e que sab aproveitar o lado bom da vida.\",\n",
    "\"Feliz Aniversário! Este é um dia grandioso, pois o milagre da vida se renova para você em mais um ciclo que começa hoje.\",\n",
    "\"Parabéns, e muitos anos de vida! Que o dia seja generoso e cheio de alegria, paz e energia positiva.\"\n",
    "]"
   ]
  },
  {
   "cell_type": "code",
   "execution_count": null,
   "metadata": {},
   "outputs": [],
   "source": [
    "# função para postar comentário de feliz aniversário\n",
    "def postar_feliz_aniversario(amigo_id):\n",
    "    frase_sorteada = random.choice(frases)\n",
    "    graph.put_comment(object_id=amigo_id, message=frase_sorteada)\n",
    "    print(\"Comentário enviado para o amigo com ID\", amigo_id)\n",
    "\n",
    "# obtendo a lista de amigos\n",
    "amigos = graph.get_connections(\"me\", \"friends\")\n",
    "\n",
    "# percorrendo a lista de amigos e verificando se hoje é aniversário de algum deles\n",
    "for amigo in amigos[\"data\"]:\n",
    "    if \"birthday\" in amigo:\n",
    "        # se for, posta comentário de feliz aniversário\n",
    "        postar_feliz_aniversario(amigo[\"id\"])"
   ]
  },
  {
   "cell_type": "code",
   "execution_count": null,
   "metadata": {},
   "outputs": [],
   "source": []
  },
  {
   "cell_type": "code",
   "execution_count": null,
   "metadata": {},
   "outputs": [],
   "source": []
  },
  {
   "cell_type": "code",
   "execution_count": null,
   "metadata": {},
   "outputs": [],
   "source": []
  },
  {
   "cell_type": "code",
   "execution_count": null,
   "metadata": {},
   "outputs": [],
   "source": []
  },
  {
   "cell_type": "code",
   "execution_count": null,
   "metadata": {},
   "outputs": [],
   "source": [
    "import facebook\n",
    "import random\n",
    "\n",
    "# lista de frases de feliz aniversário\n",
    "frases = [\"Parabéns pelo seu dia! Que venha muitas alegrias e realizações.\", \"Feliz aniversário! Que este novo ano traga muito amor e sucesso.\", \"Desejo-lhe um ano incrível cheio de aventuras e realizações. Feliz aniversário!\", \"Parabéns pelo seu dia especial! Que venha muitas surpresas boas e realizações.\", \"Feliz aniversário! Que este novo ano traga muita paz, amor e realizações incríveis.\", \"Desejo-lhe um ano maravilhoso cheio de oportunidades e alegrias. Feliz aniversário!\", \"Que venha muitas surpresas boas e realizações neste novo ano de vida. Feliz aniversário!\", \"Parabéns pelo aniversário! Que venha muitas aventuras e conquistas incríveis.\", \"Desejo que este ano seja repleto de amor, paz e realizações incríveis. Feliz aniversário!\", \"Que venha muitas surpresas boas e realizações neste novo ano de vida. Feliz aniversário!\"]\n",
    "\n",
    "# credenciais da API\n",
    "access_token = \"SUA_CHAVE_DE_ACESSO\"\n",
    "graph = facebook.GraphAPI(access_token)\n",
    "\n",
    "# função para postar comentário de feliz aniversário\n",
    "def postar_feliz_aniversario(amigo_id):\n",
    "    frase_sorteada = random.choice(frases)\n",
    "    graph.put_comment(object_id=amigo_id, message=frase_sorteada)\n",
    "    print(\"Comentário enviado para o amigo com ID\", amigo_id)\n",
    "\n",
    "# obtendo a lista de amigos\n",
    "amigos = graph.get_connections(\"me\", \"friends\")\n",
    "\n",
    "# percorrendo a lista de amigos e verificando se hoje é aniversário de algum deles\n",
    "for amigo in amigos[\"data\"]:\n",
    "    if \"birthday\" in amigo:\n",
    "        # se for, posta comentário de feliz aniversário\n",
    "        postar_feliz_aniversario(amigo[\"id\"])\n"
   ]
  },
  {
   "cell_type": "code",
   "execution_count": 12,
   "metadata": {},
   "outputs": [
    {
     "name": "stdout",
     "output_type": "stream",
     "text": [
      "Parabéns pelo aniversário!🎉🎂 Que este novo ano traga muita realização e alegria.\n"
     ]
    }
   ],
   "source": [
    "#sortear mensagens para o envio\n",
    "sortear = random.choice(frases)\n",
    "print(sortear)"
   ]
  },
  {
   "cell_type": "code",
   "execution_count": null,
   "metadata": {},
   "outputs": [],
   "source": [
    "#abrindo o navegador\n",
    "driver = webdriver.Chrome(r\"../Bot_Feliz_Aniversario_FaceBook/navergadores/chromedriver.exe\")\n",
    "driver.get(\"https://m.facebook.com/\")\n",
    "# Realiza o login, recebendo como parametro o usuario e senha do usuario\n",
    "time.sleep(30)\n",
    "    "
   ]
  },
  {
   "cell_type": "code",
   "execution_count": 3,
   "metadata": {},
   "outputs": [
    {
     "name": "stderr",
     "output_type": "stream",
     "text": [
      "C:\\Users\\otavi\\AppData\\Local\\Temp\\ipykernel_9176\\3144760513.py:2: DeprecationWarning: executable_path has been deprecated, please pass in a Service object\n",
      "  driver = webdriver.Chrome(r\"../Bot_Feliz_Aniversario_FaceBook/navergadores/chromedriver.exe\")\n"
     ]
    }
   ],
   "source": [
    "#abrindo o pagina dos aniversariantes\n",
    "driver.get(\"https://m.facebook.com/events/birthdays/ \")\n",
    "\n",
    "\n",
    "\n",
    "\n"
   ]
  },
  {
   "cell_type": "code",
   "execution_count": null,
   "metadata": {},
   "outputs": [],
   "source": []
  },
  {
   "cell_type": "code",
   "execution_count": null,
   "metadata": {},
   "outputs": [],
   "source": []
  },
  {
   "cell_type": "code",
   "execution_count": null,
   "metadata": {},
   "outputs": [],
   "source": []
  },
  {
   "cell_type": "code",
   "execution_count": null,
   "metadata": {},
   "outputs": [],
   "source": []
  },
  {
   "cell_type": "code",
   "execution_count": null,
   "metadata": {},
   "outputs": [],
   "source": [
    "https://m.facebook.com/events/birthdays/ "
   ]
  },
  {
   "cell_type": "code",
   "execution_count": null,
   "metadata": {},
   "outputs": [],
   "source": []
  },
  {
   "cell_type": "code",
   "execution_count": null,
   "metadata": {},
   "outputs": [],
   "source": []
  },
  {
   "cell_type": "code",
   "execution_count": null,
   "metadata": {},
   "outputs": [],
   "source": []
  },
  {
   "cell_type": "code",
   "execution_count": null,
   "metadata": {},
   "outputs": [],
   "source": []
  }
 ],
 "metadata": {
  "kernelspec": {
   "display_name": "Python 3.10.8 64-bit (microsoft store)",
   "language": "python",
   "name": "python3"
  },
  "language_info": {
   "codemirror_mode": {
    "name": "ipython",
    "version": 3
   },
   "file_extension": ".py",
   "mimetype": "text/x-python",
   "name": "python",
   "nbconvert_exporter": "python",
   "pygments_lexer": "ipython3",
   "version": "3.10.9"
  },
  "orig_nbformat": 4,
  "vscode": {
   "interpreter": {
    "hash": "f7f8c097c8b77234b1554043a16e456bc3013eb7e1454957444d1d61c725966c"
   }
  }
 },
 "nbformat": 4,
 "nbformat_minor": 2
}
