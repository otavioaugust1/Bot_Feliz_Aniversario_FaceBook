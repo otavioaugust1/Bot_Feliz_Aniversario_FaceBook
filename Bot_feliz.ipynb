{
 "cells": [
  {
   "cell_type": "code",
   "execution_count": 2,
   "metadata": {},
   "outputs": [],
   "source": [
    "#bibliotecas usadas\n",
    "import random\n",
    "import time\n",
    "from selenium import webdriver\n",
    "from selenium.webdriver.common.alert import Alert\n",
    "from selenium.webdriver.support.ui import WebDriverWait\n",
    "from selenium.webdriver.support import expected_conditions as EC"
   ]
  },
  {
   "cell_type": "code",
   "execution_count": 20,
   "metadata": {},
   "outputs": [],
   "source": [
    "#mensagens para desejar Feliz Aniversario\n",
    "mensagens = [\n",
    "\"Feliz aniversário! Hoje você completa mais um ano de vida e é hora de comemorar com muita alegria. Que seu dia seja repleto de luz e paz. Que as pessoas queridas estejam com você e que o amor invada seu coração!\",\n",
    "\"Que seu aniversário seja repleto de palavras de carinho e abraços sinceros. Parabéns! ❤️😍🎉\",\n",
    "\"Feliz Aniversário! 🎉🎂 Mais um ano que passou e outro que vai começar. Aproveite ao máximo e que nunca lhe falte felicidade, amor, saúde e amizade. 🤗\",\n",
    "\"Feliz aniversário! Que tudo de bom lhe aconteça neste dia tão marcante e especial na sua vida. Aproveite com um grande sorriso no rosto, e divirta-se muito!\",\n",
    "\"Completar mais um ano neste mundo é o maior presente que podemos desejar. Feliz aniversário e que a vida lhe sorria sempre!\",\n",
    "\"Parabéns! Que o seu dia seja tão lindo quanto o seu sorriso e lhe ofereça tanta felicidade quanto a sua amizade envia para a minha vida. Que esta nova etapa chegue recheada de muita saúde e novas oportunidades para concretizar os seus sonhos mais desejados.\",\n",
    "\"Hoje você inicia uma nova jornada, e nesse momento de alegria por você estar completando mais um ano de vida, quero lhe dizer que tenho muito orgulho em compartilhar da sua amizade. Parabéns meu amigo, e feliz aniversário!\",\n",
    "\"Parabéns por esta data especial. Que o tempo seja sempre o seu melhor parceiro, trazendo serenidade, equilíbrio e sabedoria – que lhe darão a receita ideal de como viver a vida, aproveitando o melhor que ela tem a oferecer.\",\n",
    "\"Nesta data especial em que você comemora mais um ano de vida, eu quero lhe desejar um dia muito feliz e preenchido por doces surpresas e presentes. Que possa celebrar o seu dia em grande estilo e na companhia daqueles que mais ama. Parabéns!\",\n",
    "\"Que este aniversário traga muita paz, saúde, alegria e sucesso. O pouco que conheço de você, já me diz que você é uma pessoa muito especial e que sab aproveitar o lado bom da vida.\",\n",
    "\"Feliz Aniversário! Este é um dia grandioso, pois o milagre da vida se renova para você em mais um ciclo que começa hoje.\",\n",
    "\"Parabéns, e muitos anos de vida! Que o dia seja generoso e cheio de alegria, paz e energia positiva.\"\n",
    "]\n",
    "\n"
   ]
  },
  {
   "cell_type": "code",
   "execution_count": 30,
   "metadata": {},
   "outputs": [
    {
     "name": "stdout",
     "output_type": "stream",
     "text": [
      "Que este aniversário traga muita paz, saúde, alegria e sucesso. O pouco que conheço de você, já me diz que você é uma pessoa muito especial e que sab aproveitar o lado bom da vida.\n"
     ]
    }
   ],
   "source": [
    "#sortear mensagens para o envio\n",
    "sortear = random.choice(mensagens)\n",
    "print(sortear)"
   ]
  },
  {
   "cell_type": "code",
   "execution_count": null,
   "metadata": {},
   "outputs": [],
   "source": [
    "#abrindo o navegador\n",
    "driver = webdriver.Chrome(r\"../Bot_Feliz_Aniversario_FaceBook/navergadores/chromedriver.exe\")\n",
    "driver.get(\"https://m.facebook.com/\")\n",
    "# Realiza o login, recebendo como parametro o usuario e senha do usuario\n",
    "time.sleep(30)\n",
    "    "
   ]
  },
  {
   "cell_type": "code",
   "execution_count": 3,
   "metadata": {},
   "outputs": [
    {
     "name": "stderr",
     "output_type": "stream",
     "text": [
      "C:\\Users\\otavi\\AppData\\Local\\Temp\\ipykernel_9176\\3144760513.py:2: DeprecationWarning: executable_path has been deprecated, please pass in a Service object\n",
      "  driver = webdriver.Chrome(r\"../Bot_Feliz_Aniversario_FaceBook/navergadores/chromedriver.exe\")\n"
     ]
    }
   ],
   "source": [
    "#abrindo o pagina dos aniversariantes\n",
    "driver.get(\"https://m.facebook.com/events/birthdays/ \")\n",
    "\n",
    "\n",
    "\n",
    "\n"
   ]
  },
  {
   "cell_type": "code",
   "execution_count": null,
   "metadata": {},
   "outputs": [],
   "source": []
  },
  {
   "cell_type": "code",
   "execution_count": null,
   "metadata": {},
   "outputs": [],
   "source": []
  },
  {
   "cell_type": "code",
   "execution_count": null,
   "metadata": {},
   "outputs": [],
   "source": []
  },
  {
   "cell_type": "code",
   "execution_count": null,
   "metadata": {},
   "outputs": [],
   "source": []
  },
  {
   "cell_type": "code",
   "execution_count": null,
   "metadata": {},
   "outputs": [],
   "source": [
    "https://m.facebook.com/events/birthdays/ "
   ]
  },
  {
   "cell_type": "code",
   "execution_count": null,
   "metadata": {},
   "outputs": [],
   "source": []
  },
  {
   "cell_type": "code",
   "execution_count": null,
   "metadata": {},
   "outputs": [],
   "source": []
  },
  {
   "cell_type": "code",
   "execution_count": null,
   "metadata": {},
   "outputs": [],
   "source": []
  },
  {
   "cell_type": "code",
   "execution_count": null,
   "metadata": {},
   "outputs": [],
   "source": []
  }
 ],
 "metadata": {
  "kernelspec": {
   "display_name": "Python 3.10.8 64-bit (microsoft store)",
   "language": "python",
   "name": "python3"
  },
  "language_info": {
   "codemirror_mode": {
    "name": "ipython",
    "version": 3
   },
   "file_extension": ".py",
   "mimetype": "text/x-python",
   "name": "python",
   "nbconvert_exporter": "python",
   "pygments_lexer": "ipython3",
   "version": "3.10.8"
  },
  "orig_nbformat": 4,
  "vscode": {
   "interpreter": {
    "hash": "f7f8c097c8b77234b1554043a16e456bc3013eb7e1454957444d1d61c725966c"
   }
  }
 },
 "nbformat": 4,
 "nbformat_minor": 2
}
